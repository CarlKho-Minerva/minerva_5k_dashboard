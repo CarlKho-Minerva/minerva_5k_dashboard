{
 "cells": [
  {
   "cell_type": "code",
   "execution_count": null,
   "metadata": {},
   "outputs": [],
   "source": [
    "! pip install streamlit\n",
    "import streamlit as st"
   ]
  },
  {
   "cell_type": "code",
   "execution_count": 4,
   "metadata": {},
   "outputs": [],
   "source": [
    "# Sample data for the Minerva 5K challenge\n",
    "records = [\n",
    "    {\"Name\": \"Alex Smith\", \"Runs Completed\": 5, \"Best Time\": \"25:30\", \"Position\": 1},\n",
    "    {\"Name\": \"Jamie Taylor\", \"Runs Completed\": 4, \"Best Time\": \"26:15\", \"Position\": 2},\n",
    "    {\"Name\": \"Sam Rivera\", \"Runs Completed\": 5, \"Best Time\": \"27:00\", \"Position\": 3},\n",
    "    {\"Name\": \"Jordan Lee\", \"Runs Completed\": 3, \"Best Time\": \"28:45\", \"Position\": 4},\n",
    "    {\"Name\": \"Casey Jordan\", \"Runs Completed\": 2, \"Best Time\": \"30:00\", \"Position\": 5},\n",
    "]"
   ]
  },
  {
   "cell_type": "code",
   "execution_count": 5,
   "metadata": {},
   "outputs": [],
   "source": [
    "# Streamlit app\n",
    "st.title('Minerva 5K Challenge Dashboard')\n",
    "\n",
    "# Display winners\n",
    "st.subheader('Winners')\n",
    "for record in records:\n",
    "    if record[\"Position\"] == 1:\n",
    "        st.write(f\"🥇 {record['Name']} - Best Time: {record['Best Time']}\")\n",
    "\n",
    "# Display number of runs completed by each participant\n",
    "st.subheader('Number of Runs Completed')\n",
    "for record in records:\n",
    "    st.write(f\"{record['Name']}: {record['Runs Completed']} runs\")\n",
    "\n",
    "# Optionally, display the best time for each participant\n",
    "st.subheader('Best Times')\n",
    "for record in records:\n",
    "    st.write(f\"{record['Name']}: {record['Best Time']}\")\n"
   ]
  },
  {
   "cell_type": "code",
   "execution_count": null,
   "metadata": {},
   "outputs": [],
   "source": [
    "streamlit run 5k.ipynb\n"
   ]
  }
 ],
 "metadata": {
  "kernelspec": {
   "display_name": "Python 3",
   "language": "python",
   "name": "python3"
  },
  "language_info": {
   "codemirror_mode": {
    "name": "ipython",
    "version": 3
   },
   "file_extension": ".py",
   "mimetype": "text/x-python",
   "name": "python",
   "nbconvert_exporter": "python",
   "pygments_lexer": "ipython3",
   "version": "3.10.13"
  }
 },
 "nbformat": 4,
 "nbformat_minor": 2
}
