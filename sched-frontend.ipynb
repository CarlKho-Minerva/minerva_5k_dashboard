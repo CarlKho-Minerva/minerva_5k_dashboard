{
 "cells": [
  {
   "cell_type": "code",
   "execution_count": 2,
   "metadata": {},
   "outputs": [
    {
     "data": {
      "text/plain": [
       "DeltaGenerator()"
      ]
     },
     "execution_count": 2,
     "metadata": {},
     "output_type": "execute_result"
    }
   ],
   "source": [
    "import streamlit as st\n",
    "import plotly.express as px\n",
    "import pandas as pd\n",
    "\n",
    "# Sample data\n",
    "data = {\n",
    "    'Date': pd.date_range(start='2018-04-01', periods=5, freq='Y').year,\n",
    "    'Facebook': [2.2e9, 2.3e9, 2.4e9, 2.5e9, 2.6e9],\n",
    "    'YouTube': [1.6e9, 1.7e9, 1.8e9, 1.9e9, 2.0e9],\n",
    "    'WhatsApp': [1.5e9, 1.55e9, 1.6e9, 1.65e9, 1.7e9],\n",
    "    # Add other platforms...\n",
    "}\n",
    "\n",
    "df = pd.DataFrame(data)\n",
    "df_long = df.melt(id_vars=['Date'], var_name='Platform', value_name='Users')\n",
    "\n",
    "# Create an animated line chart\n",
    "fig = px.line(df_long, x='Date', y='Users', color='Platform', animation_frame='Date', range_y=[df_long['Users'].min(), df_long['Users'].max()])\n",
    "\n",
    "# Update layout\n",
    "fig.update_layout(showlegend=True, updatemenus=[{\"type\": \"buttons\", \"buttons\": [{\"label\": \"Play\", \"method\": \"animate\", \"args\": [None]}]}])\n",
    "\n",
    "# Display the plot in Streamlit\n",
    "st.plotly_chart(fig, use_container_width=True)\n"
   ]
  },
  {
   "cell_type": "code",
   "execution_count": null,
   "metadata": {},
   "outputs": [],
   "source": []
  }
 ],
 "metadata": {
  "kernelspec": {
   "display_name": "Python 3",
   "language": "python",
   "name": "python3"
  },
  "language_info": {
   "codemirror_mode": {
    "name": "ipython",
    "version": 3
   },
   "file_extension": ".py",
   "mimetype": "text/x-python",
   "name": "python",
   "nbconvert_exporter": "python",
   "pygments_lexer": "ipython3",
   "version": "3.10.13"
  }
 },
 "nbformat": 4,
 "nbformat_minor": 2
}
